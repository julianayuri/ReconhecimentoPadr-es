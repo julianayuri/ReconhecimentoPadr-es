{
  "nbformat": 4,
  "nbformat_minor": 0,
  "metadata": {
    "colab": {
      "provenance": [],
      "authorship_tag": "ABX9TyO5+rJOqsu5MNA6dQHpp/9P",
      "include_colab_link": true
    },
    "kernelspec": {
      "name": "python3",
      "display_name": "Python 3"
    },
    "language_info": {
      "name": "python"
    }
  },
  "cells": [
    {
      "cell_type": "markdown",
      "metadata": {
        "id": "view-in-github",
        "colab_type": "text"
      },
      "source": [
        "<a href=\"https://colab.research.google.com/github/julianayuri/ReconhecimentoPadroes/blob/main/Atividade06.ipynb\" target=\"_parent\"><img src=\"https://colab.research.google.com/assets/colab-badge.svg\" alt=\"Open In Colab\"/></a>"
      ]
    },
    {
      "cell_type": "code",
      "execution_count": 2,
      "metadata": {
        "id": "UywHSxbEccj3"
      },
      "outputs": [],
      "source": [
        "from sklearn.datasets import fetch_openml\n",
        "import pandas as pd\n",
        "import numpy as np"
      ]
    },
    {
      "cell_type": "code",
      "source": [
        "fri = fetch_openml(name='fri_c2_1000_5', version=2)\n",
        "X, y = fri.data, fri.target\n",
        "X.shape, y.shape"
      ],
      "metadata": {
        "colab": {
          "base_uri": "https://localhost:8080/"
        },
        "id": "Z4OHspMjciOR",
        "outputId": "dcdd9ded-13ca-46e8-c609-33d17172769d"
      },
      "execution_count": 3,
      "outputs": [
        {
          "output_type": "execute_result",
          "data": {
            "text/plain": [
              "((1000, 5), (1000,))"
            ]
          },
          "metadata": {},
          "execution_count": 3
        }
      ]
    },
    {
      "cell_type": "code",
      "source": [
        "for column in X.columns:\n",
        "  print(f\"{column:>12} {len(set(X[column])):4} {X[column].dtype}\")"
      ],
      "metadata": {
        "colab": {
          "base_uri": "https://localhost:8080/"
        },
        "id": "1S2yPxk4gnvT",
        "outputId": "b2cf2fae-1aef-4bec-9834-1d8e1f343bb1"
      },
      "execution_count": 4,
      "outputs": [
        {
          "output_type": "stream",
          "name": "stdout",
          "text": [
            "         oz1 1000 float64\n",
            "         oz2 1000 float64\n",
            "         oz3 1000 float64\n",
            "         oz4 1000 float64\n",
            "         oz5 1000 float64\n"
          ]
        }
      ]
    },
    {
      "cell_type": "code",
      "source": [
        "from sklearn.model_selection import train_test_split\n",
        "\n",
        "Xtr, Xte, ytr, yte = train_test_split(X, y, random_state=42)\n",
        "Xtr.shape, Xte.shape, ytr.shape, yte.shape"
      ],
      "metadata": {
        "colab": {
          "base_uri": "https://localhost:8080/"
        },
        "id": "dAvys2Yle-7j",
        "outputId": "b366e07a-cd1e-472a-a28e-fc08230eb02f"
      },
      "execution_count": 5,
      "outputs": [
        {
          "output_type": "execute_result",
          "data": {
            "text/plain": [
              "((750, 5), (250, 5), (750,), (250,))"
            ]
          },
          "metadata": {},
          "execution_count": 5
        }
      ]
    },
    {
      "cell_type": "code",
      "source": [
        "from sklearn.neighbors import KNeighborsClassifier\n",
        "from sklearn.naive_bayes import GaussianNB\n",
        "from sklearn.linear_model import Perceptron\n",
        "from sklearn.tree import DecisionTreeClassifier\n",
        "from sklearn.ensemble import VotingClassifier\n",
        "\n",
        "modelo_voting = VotingClassifier([\n",
        "    ('knn', KNeighborsClassifier()),\n",
        "    #('gnb', GaussianNB()),\n",
        "    ('per', Perceptron()),\n",
        "    ('tree', DecisionTreeClassifier())\n",
        "])\n",
        "\n",
        "\n",
        "modelo_voting.fit(Xtr, ytr)\n",
        "vote_pred = modelo_voting.predict(Xte)\n",
        "vote_hits = vote_pred == yte\n",
        "vote_hits, sum(vote_hits)/len(vote_hits)"
      ],
      "metadata": {
        "colab": {
          "base_uri": "https://localhost:8080/"
        },
        "id": "8u7izV7SekG2",
        "outputId": "3aa3f7fb-ac81-44a5-ea02-b0206b45e15a"
      },
      "execution_count": 7,
      "outputs": [
        {
          "output_type": "execute_result",
          "data": {
            "text/plain": [
              "(521    False\n",
              " 737     True\n",
              " 740     True\n",
              " 660     True\n",
              " 411     True\n",
              "        ...  \n",
              " 109     True\n",
              " 430     True\n",
              " 77      True\n",
              " 84      True\n",
              " 286     True\n",
              " Name: binaryClass, Length: 250, dtype: bool, 0.928)"
            ]
          },
          "metadata": {},
          "execution_count": 7
        }
      ]
    },
    {
      "cell_type": "code",
      "source": [
        "from sklearn.model_selection import cross_validate\n",
        "from sklearn.model_selection import GridSearchCV\n",
        "\n",
        "parametros = {\n",
        "    'tree__max_depth': list(range(1,10,2)),\n",
        "    'knn__n_neighbors': list(range(1,10,2)),\n",
        "}\n",
        "\n",
        "modelo_voting_grid = GridSearchCV(modelo_voting, param_grid=parametros)\n",
        "\n",
        "scores = cross_validate(modelo_voting_grid, X, y)\n",
        "scores, np.mean(scores['test_score'])"
      ],
      "metadata": {
        "colab": {
          "base_uri": "https://localhost:8080/"
        },
        "id": "eDMgw_mQlDa8",
        "outputId": "4f3ae154-7dc8-4441-abe1-f2b063a68cd9"
      },
      "execution_count": 8,
      "outputs": [
        {
          "output_type": "execute_result",
          "data": {
            "text/plain": [
              "({'fit_time': array([2.16515446, 2.42689824, 2.01352334, 2.00441766, 2.03533864]),\n",
              "  'score_time': array([0.0131855 , 0.00863171, 0.00919318, 0.00860834, 0.0088129 ]),\n",
              "  'test_score': array([0.925, 0.905, 0.92 , 0.87 , 0.88 ])},\n",
              " 0.9)"
            ]
          },
          "metadata": {},
          "execution_count": 8
        }
      ]
    },
    {
      "cell_type": "code",
      "source": [
        "modelo_voting_grid.fit(X, y)\n",
        "modelo_voting_grid.best_estimator_"
      ],
      "metadata": {
        "colab": {
          "base_uri": "https://localhost:8080/"
        },
        "id": "Jhf2oZF5pSnS",
        "outputId": "0b3ca22d-d16c-4f8a-8f39-155a6bbf3076"
      },
      "execution_count": 9,
      "outputs": [
        {
          "output_type": "execute_result",
          "data": {
            "text/plain": [
              "VotingClassifier(estimators=[('knn', KNeighborsClassifier(n_neighbors=7)),\n",
              "                             ('per', Perceptron()),\n",
              "                             ('tree', DecisionTreeClassifier(max_depth=9))])"
            ]
          },
          "metadata": {},
          "execution_count": 9
        }
      ]
    },
    {
      "cell_type": "code",
      "source": [
        "from sklearn.ensemble import ExtraTreesClassifier\n",
        "from sklearn.ensemble import RandomForestClassifier\n",
        "import warnings\n",
        "warnings.filterwarnings('ignore')\n",
        "\n",
        "from sklearn.ensemble import StackingClassifier\n",
        "voting = VotingClassifier([\n",
        "    ('knn', KNeighborsClassifier()),\n",
        "    #('gnb', GaussianNB()),\n",
        "    ('per', Perceptron()),\n",
        "    ('tree', DecisionTreeClassifier())\n",
        "])\n",
        "\n",
        "modelo_stacking = StackingClassifier([\n",
        "    ('voting', voting),\n",
        "    ('extrat', ExtraTreesClassifier()),\n",
        "    ('ranfor', RandomForestClassifier())\n",
        "], cv=3, passthrough=True)\n",
        "\n",
        "modelo_stacking.fit(Xtr, ytr)\n",
        "stack_pred = modelo_stacking.predict(Xte)\n",
        "stack_hits = stack_pred == yte\n",
        "stack_hits, sum(stack_hits)/len(stack_hits)"
      ],
      "metadata": {
        "colab": {
          "base_uri": "https://localhost:8080/"
        },
        "id": "0yPf_Ad_e80R",
        "outputId": "09699cc8-6e7c-4d4d-945a-3e1b16942cca"
      },
      "execution_count": 10,
      "outputs": [
        {
          "output_type": "execute_result",
          "data": {
            "text/plain": [
              "(521    False\n",
              " 737     True\n",
              " 740     True\n",
              " 660     True\n",
              " 411     True\n",
              "        ...  \n",
              " 109     True\n",
              " 430     True\n",
              " 77      True\n",
              " 84      True\n",
              " 286     True\n",
              " Name: binaryClass, Length: 250, dtype: bool, 0.936)"
            ]
          },
          "metadata": {},
          "execution_count": 10
        }
      ]
    },
    {
      "cell_type": "code",
      "source": [
        "parametros = {\n",
        "    'voting__tree__max_depth': list(range(1,10,2)),\n",
        "    'voting__knn__n_neighbors': list(range(1,10,2))\n",
        "}\n",
        "\n",
        "modelo_stacking_grid = GridSearchCV(modelo_stacking, param_grid=parametros)\n",
        "\n",
        "scores = cross_validate(modelo_stacking_grid, X, y)\n",
        "scores, np.mean(scores['test_score'])"
      ],
      "metadata": {
        "colab": {
          "base_uri": "https://localhost:8080/"
        },
        "id": "ydu9WbZ8rjLF",
        "outputId": "b9592a41-0852-4846-8dee-ad062bb62b0c"
      },
      "execution_count": 11,
      "outputs": [
        {
          "output_type": "execute_result",
          "data": {
            "text/plain": [
              "({'fit_time': array([128.72280335, 127.1436646 , 127.39743543, 127.99343491,\n",
              "         129.13150716]),\n",
              "  'score_time': array([0.03265023, 0.03272748, 0.03208208, 0.03091693, 0.03217363]),\n",
              "  'test_score': array([0.97 , 0.93 , 0.96 , 0.935, 0.95 ])},\n",
              " 0.9490000000000001)"
            ]
          },
          "metadata": {},
          "execution_count": 11
        }
      ]
    },
    {
      "cell_type": "code",
      "source": [
        "modelo_stacking_grid.fit(X, y)\n",
        "modelo_stacking_grid.best_estimator_"
      ],
      "metadata": {
        "colab": {
          "base_uri": "https://localhost:8080/"
        },
        "id": "XVezUUEUr47J",
        "outputId": "59b14198-567d-42c3-cad5-6b0350cfad74"
      },
      "execution_count": 12,
      "outputs": [
        {
          "output_type": "execute_result",
          "data": {
            "text/plain": [
              "StackingClassifier(cv=3,\n",
              "                   estimators=[('voting',\n",
              "                                VotingClassifier(estimators=[('knn',\n",
              "                                                              KNeighborsClassifier(n_neighbors=1)),\n",
              "                                                             ('per',\n",
              "                                                              Perceptron()),\n",
              "                                                             ('tree',\n",
              "                                                              DecisionTreeClassifier(max_depth=9))])),\n",
              "                               ('extrat', ExtraTreesClassifier()),\n",
              "                               ('ranfor', RandomForestClassifier())],\n",
              "                   passthrough=True)"
            ]
          },
          "metadata": {},
          "execution_count": 12
        }
      ]
    }
  ]
}