{
  "nbformat": 4,
  "nbformat_minor": 0,
  "metadata": {
    "colab": {
      "provenance": [],
      "authorship_tag": "ABX9TyPuP9DJ0nG/WERaNbBgmUBb",
      "include_colab_link": true
    },
    "kernelspec": {
      "name": "python3",
      "display_name": "Python 3"
    },
    "language_info": {
      "name": "python"
    }
  },
  "cells": [
    {
      "cell_type": "markdown",
      "metadata": {
        "id": "view-in-github",
        "colab_type": "text"
      },
      "source": [
        "<a href=\"https://colab.research.google.com/github/julianayuri/ReconhecimentoPadroes/blob/main/RedesNeurais_Atividade_01.ipynb\" target=\"_parent\"><img src=\"https://colab.research.google.com/assets/colab-badge.svg\" alt=\"Open In Colab\"/></a>"
      ]
    },
    {
      "cell_type": "code",
      "execution_count": null,
      "metadata": {
        "id": "svr6iBAvUHXO"
      },
      "outputs": [],
      "source": [
        "import tensorflow as tf\n",
        "from tensorflow import keras\n",
        "from tensorflow.keras.datasets import reuters"
      ]
    },
    {
      "cell_type": "code",
      "source": [
        "(x_train, y_train), (x_test, y_test) = tf.keras.datasets.reuters.load_data(test_split=0.2, seed=42, num_words=10000)\n"
      ],
      "metadata": {
        "id": "Db66VG_vUrc8"
      },
      "execution_count": null,
      "outputs": []
    },
    {
      "cell_type": "code",
      "source": [
        "x_train.shape, y_train.shape, x_test.shape, y_test.shape"
      ],
      "metadata": {
        "colab": {
          "base_uri": "https://localhost:8080/"
        },
        "id": "m6hVBYe_Wgic",
        "outputId": "120b386b-8c6c-4107-ed37-04d08cf4a8cd"
      },
      "execution_count": null,
      "outputs": [
        {
          "output_type": "execute_result",
          "data": {
            "text/plain": [
              "((8982,), (8982,), (2246,), (2246,))"
            ]
          },
          "metadata": {},
          "execution_count": 25
        }
      ]
    },
    {
      "cell_type": "code",
      "source": [
        "x_train[0:1], y_train[0:1]"
      ],
      "metadata": {
        "colab": {
          "base_uri": "https://localhost:8080/"
        },
        "id": "LVPJKXyKW1JN",
        "outputId": "cf40ffd2-d3eb-424e-8d07-4cd0bd5330a3"
      },
      "execution_count": null,
      "outputs": [
        {
          "output_type": "execute_result",
          "data": {
            "text/plain": [
              "(array([list([1, 39, 566, 11, 14, 841, 11, 29, 53, 617, 187, 193, 15, 14, 134, 533, 15, 53, 175, 3758, 948, 15, 14, 4313, 279, 15, 39, 4074, 11, 14, 3814, 11, 123, 248, 867, 377, 1471, 81, 2, 64, 187, 6164, 2116, 617, 79, 335, 7, 48, 14, 187, 6164, 4656, 7, 105, 324, 27, 69, 12, 18, 730, 1698, 5, 4, 134, 248, 867, 377, 171, 2, 75, 40, 251, 18, 79, 5, 175, 324, 27, 4, 867, 377, 171, 17, 12])],\n",
              "       dtype=object),\n",
              " array([3]))"
            ]
          },
          "metadata": {},
          "execution_count": 26
        }
      ]
    },
    {
      "cell_type": "code",
      "source": [
        "def decode_words(word_index, sentence):\n",
        "    reverse_word_index = dict(\n",
        "        [(value, key) for (key, value) in word_index.items()]\n",
        "    )\n",
        "    return \" \".join(\n",
        "        [reverse_word_index.get(i, \"?\") for i in sentence]\n",
        "    )\n",
        "decode_words(reuters.get_word_index(), x_train[0])"
      ],
      "metadata": {
        "colab": {
          "base_uri": "https://localhost:8080/",
          "height": 52
        },
        "id": "Ic_ngId7aBN7",
        "outputId": "cd598ce2-8e63-4543-be95-c24decd94a2e"
      },
      "execution_count": null,
      "outputs": [
        {
          "output_type": "execute_result",
          "data": {
            "text/plain": [
              "'the an brazil vs reuter 68 vs 2 lt index countries 18 000 reuter all number 000 lt oper site consumption 000 reuter considerably reserves 000 an 784 vs reuter holiday vs some 100 hit our forward up of share countries 624 writedown index tonnes income a but reuter countries 624 627 a exchange half be 9 dlrs on bond 07 said in all 100 hit our japanese of two as before on tonnes said oper half be in hit our japanese pct dlrs'"
            ],
            "application/vnd.google.colaboratory.intrinsic+json": {
              "type": "string"
            }
          },
          "metadata": {},
          "execution_count": 27
        }
      ]
    },
    {
      "cell_type": "code",
      "source": [
        "from sklearn.preprocessing import label_binarize\n",
        "\n",
        "def encode_labels( y):\n",
        "    labels = list(set(y))\n",
        "    return label_binarize(y, classes=labels)*2-1\n",
        "\n"
      ],
      "metadata": {
        "id": "KMsO6rZvf4sc"
      },
      "execution_count": null,
      "outputs": []
    },
    {
      "cell_type": "code",
      "source": [
        "from tensorflow.keras.utils import to_categorical\n",
        "import numpy as np\n",
        "def vectorize_sequences(sequences, dimension=10000):\n",
        "  results = np.zeros((len(sequences), dimension))\n",
        "  for i, sequence in enumerate(sequences):\n",
        "    for j in sequence:\n",
        "      results[i, j] = 1\n",
        "  return results\n",
        "x_train = vectorize_sequences(x_train)\n",
        "x_test = vectorize_sequences(x_test)\n",
        "y_train = to_categorical(y_train)\n",
        "y_test = to_categorical(y_test)\n",
        "x_train.shape, y_train.shape, x_test.shape, y_test.shape \n"
      ],
      "metadata": {
        "colab": {
          "base_uri": "https://localhost:8080/"
        },
        "id": "YwbAl8DPceHY",
        "outputId": "9031e9b9-249c-4186-b1d0-5e778724a109"
      },
      "execution_count": null,
      "outputs": [
        {
          "output_type": "execute_result",
          "data": {
            "text/plain": [
              "((8982, 10000), (8982, 46), (2246, 10000), (2246, 46))"
            ]
          },
          "metadata": {},
          "execution_count": 29
        }
      ]
    },
    {
      "cell_type": "code",
      "source": [
        "y_train[0:1]"
      ],
      "metadata": {
        "colab": {
          "base_uri": "https://localhost:8080/"
        },
        "id": "QhgLOnGXgcw9",
        "outputId": "daa0b64b-287b-4bb0-ac1b-cb59ecef5a59"
      },
      "execution_count": null,
      "outputs": [
        {
          "output_type": "execute_result",
          "data": {
            "text/plain": [
              "array([[0., 0., 0., 1., 0., 0., 0., 0., 0., 0., 0., 0., 0., 0., 0., 0.,\n",
              "        0., 0., 0., 0., 0., 0., 0., 0., 0., 0., 0., 0., 0., 0., 0., 0.,\n",
              "        0., 0., 0., 0., 0., 0., 0., 0., 0., 0., 0., 0., 0., 0.]],\n",
              "      dtype=float32)"
            ]
          },
          "metadata": {},
          "execution_count": 30
        }
      ]
    },
    {
      "cell_type": "code",
      "source": [
        "from keras.engine.training import optimizer\n",
        "from tensorflow import keras\n",
        "from tensorflow.keras import layers\n",
        "\n",
        "model = keras.Sequential([\n",
        "    layers.Dense(94, activation=\"relu\"),\n",
        "    #layers.Dense(64, activation=\"relu\"),\n",
        "    layers.Dense(46, activation=\"softmax\")\n",
        "])\n",
        "model.compile(optimizer=\"rmsprop\",\n",
        "              loss=\"categorical_crossentropy\",\n",
        "              metrics=[\"accuracy\"])    \n"
      ],
      "metadata": {
        "id": "9PkmuNZPgtOq"
      },
      "execution_count": null,
      "outputs": []
    },
    {
      "cell_type": "code",
      "source": [
        "n_val = 1000\n",
        "x_val = x_train[:n_val]\n",
        "partial_x_train = x_train[n_val:]\n",
        "y_val = y_train[:n_val]\n",
        "partial_y_train = y_train[n_val:]\n",
        "x_val.shape, partial_x_train.shape, y_val.shape, partial_y_train.shape"
      ],
      "metadata": {
        "colab": {
          "base_uri": "https://localhost:8080/"
        },
        "id": "JVSs12Mlhn-1",
        "outputId": "f56118f2-4305-4116-b6f8-b5310b27ec8a"
      },
      "execution_count": null,
      "outputs": [
        {
          "output_type": "execute_result",
          "data": {
            "text/plain": [
              "((1000, 10000), (7982, 10000), (1000, 46), (7982, 46))"
            ]
          },
          "metadata": {},
          "execution_count": 32
        }
      ]
    },
    {
      "cell_type": "code",
      "source": [
        "history = model.fit(partial_x_train, partial_y_train,\n",
        "                    epochs=20, batch_size=400, validation_data=(x_val, y_val))"
      ],
      "metadata": {
        "colab": {
          "base_uri": "https://localhost:8080/"
        },
        "id": "fEJcLYdghv6F",
        "outputId": "e5d88779-6d39-4682-9dc8-11bf2049a41d"
      },
      "execution_count": null,
      "outputs": [
        {
          "output_type": "stream",
          "name": "stdout",
          "text": [
            "Epoch 1/20\n",
            "20/20 [==============================] - 2s 76ms/step - loss: 2.2961 - accuracy: 0.5743 - val_loss: 1.6244 - val_accuracy: 0.6770\n",
            "Epoch 2/20\n",
            "20/20 [==============================] - 2s 76ms/step - loss: 1.2892 - accuracy: 0.7335 - val_loss: 1.2530 - val_accuracy: 0.7280\n",
            "Epoch 3/20\n",
            "20/20 [==============================] - 2s 94ms/step - loss: 0.9472 - accuracy: 0.8049 - val_loss: 1.0829 - val_accuracy: 0.7600\n",
            "Epoch 4/20\n",
            "20/20 [==============================] - 2s 119ms/step - loss: 0.7358 - accuracy: 0.8505 - val_loss: 0.9935 - val_accuracy: 0.7790\n",
            "Epoch 5/20\n",
            "20/20 [==============================] - 3s 134ms/step - loss: 0.5849 - accuracy: 0.8817 - val_loss: 0.9407 - val_accuracy: 0.7900\n",
            "Epoch 6/20\n",
            "20/20 [==============================] - 1s 66ms/step - loss: 0.4735 - accuracy: 0.9072 - val_loss: 0.9070 - val_accuracy: 0.7940\n",
            "Epoch 7/20\n",
            "20/20 [==============================] - 1s 50ms/step - loss: 0.3907 - accuracy: 0.9242 - val_loss: 0.8854 - val_accuracy: 0.7980\n",
            "Epoch 8/20\n",
            "20/20 [==============================] - 1s 51ms/step - loss: 0.3267 - accuracy: 0.9359 - val_loss: 0.8751 - val_accuracy: 0.8070\n",
            "Epoch 9/20\n",
            "20/20 [==============================] - 1s 52ms/step - loss: 0.2808 - accuracy: 0.9394 - val_loss: 0.8760 - val_accuracy: 0.8130\n",
            "Epoch 10/20\n",
            "20/20 [==============================] - 1s 52ms/step - loss: 0.2419 - accuracy: 0.9446 - val_loss: 0.8771 - val_accuracy: 0.8110\n",
            "Epoch 11/20\n",
            "20/20 [==============================] - 1s 51ms/step - loss: 0.2128 - accuracy: 0.9493 - val_loss: 0.8815 - val_accuracy: 0.8120\n",
            "Epoch 12/20\n",
            "20/20 [==============================] - 1s 52ms/step - loss: 0.1921 - accuracy: 0.9524 - val_loss: 0.8871 - val_accuracy: 0.8140\n",
            "Epoch 13/20\n",
            "20/20 [==============================] - 1s 50ms/step - loss: 0.1730 - accuracy: 0.9545 - val_loss: 0.8982 - val_accuracy: 0.8100\n",
            "Epoch 14/20\n",
            "20/20 [==============================] - 1s 51ms/step - loss: 0.1576 - accuracy: 0.9565 - val_loss: 0.9078 - val_accuracy: 0.8140\n",
            "Epoch 15/20\n",
            "20/20 [==============================] - 1s 69ms/step - loss: 0.1471 - accuracy: 0.9582 - val_loss: 0.9274 - val_accuracy: 0.8070\n",
            "Epoch 16/20\n",
            "20/20 [==============================] - 2s 97ms/step - loss: 0.1378 - accuracy: 0.9590 - val_loss: 0.9253 - val_accuracy: 0.8120\n",
            "Epoch 17/20\n",
            "20/20 [==============================] - 1s 51ms/step - loss: 0.1275 - accuracy: 0.9607 - val_loss: 0.9386 - val_accuracy: 0.8130\n",
            "Epoch 18/20\n",
            "20/20 [==============================] - 1s 52ms/step - loss: 0.1223 - accuracy: 0.9604 - val_loss: 0.9617 - val_accuracy: 0.8020\n",
            "Epoch 19/20\n",
            "20/20 [==============================] - 1s 50ms/step - loss: 0.1156 - accuracy: 0.9600 - val_loss: 0.9792 - val_accuracy: 0.7980\n",
            "Epoch 20/20\n",
            "20/20 [==============================] - 1s 49ms/step - loss: 0.1129 - accuracy: 0.9598 - val_loss: 0.9738 - val_accuracy: 0.8000\n"
          ]
        }
      ]
    },
    {
      "cell_type": "code",
      "source": [
        "history.history.keys()"
      ],
      "metadata": {
        "colab": {
          "base_uri": "https://localhost:8080/"
        },
        "id": "AiZmVNW0liVw",
        "outputId": "a3532b3a-92a4-415f-b81a-fa048781b061"
      },
      "execution_count": null,
      "outputs": [
        {
          "output_type": "execute_result",
          "data": {
            "text/plain": [
              "dict_keys(['loss', 'accuracy', 'val_loss', 'val_accuracy'])"
            ]
          },
          "metadata": {},
          "execution_count": 34
        }
      ]
    },
    {
      "cell_type": "code",
      "source": [
        "import matplotlib.pyplot as plt\n",
        "history_dict = history.history\n",
        "loss_values = history_dict[\"loss\"]\n",
        "val_loss_values = history_dict[\"val_loss\"]\n",
        "epochs = range(1, len(loss_values)+1)\n",
        "plt.plot(epochs, loss_values, \"bo\", label=\"Trainig loss\")\n",
        "plt.plot(epochs, val_loss_values, \"b\", label=\"validation loss\")\n",
        "plt.title(\"Training and validation loss\")\n",
        "plt.xlabel(\"Epochs\")\n",
        "plt.ylabel(\"Loss\")\n",
        "plt.legend()\n",
        "plt.show()"
      ],
      "metadata": {
        "colab": {
          "base_uri": "https://localhost:8080/",
          "height": 472
        },
        "id": "NW2U0Z2NlkyB",
        "outputId": "ebe2bd2f-aaa3-4b22-85d3-a527468025a3"
      },
      "execution_count": null,
      "outputs": [
        {
          "output_type": "display_data",
          "data": {
            "text/plain": [
              "<Figure size 640x480 with 1 Axes>"
            ],
            "image/png": "[encoded data removed]"
          },
          "metadata": {}
        }
      ]
    },
    {
      "cell_type": "code",
      "source": [
        "import matplotlib.pyplot as plt\n",
        "history_dict = history.history\n",
        "accuracy_values = history_dict[\"accuracy\"]\n",
        "val_accuracy_values = history_dict[\"val_accuracy\"]\n",
        "epochs = range(1, len(accuracy_values)+1)\n",
        "plt.plot(epochs, accuracy_values, \"bo\", label=\"Trainig acc\")\n",
        "plt.plot(epochs, val_accuracy_values, \"b\", label=\"validation acc\")\n",
        "plt.title(\"Training and validation accuracy\")\n",
        "plt.xlabel(\"Epochs\")\n",
        "plt.ylabel(\"Accuracy\")\n",
        "plt.legend()\n",
        "plt.show()   \n"
      ],
      "metadata": {
        "colab": {
          "base_uri": "https://localhost:8080/",
          "height": 472
        },
        "id": "xrcEcbVsltDF",
        "outputId": "db5553a2-8e72-406c-cefd-221881b8f341"
      },
      "execution_count": null,
      "outputs": [
        {
          "output_type": "display_data",
          "data": {
            "text/plain": [
              "<Figure size 640x480 with 1 Axes>"
            ],
            "image/png": "[encoded data removed]"
          },
          "metadata": {}
        }
      ]
    },
    {
      "cell_type": "code",
      "source": [
        "model.compile(optimizer=\"rmsprop\",\n",
        "              loss=\"categorical_crossentropy\",\n",
        "              metrics=[\"accuracy\"])\n",
        "history = model.fit(partial_x_train, partial_y_train,\n",
        "                    epochs=9, batch_size=512,\n",
        "                    validation_data=(x_val, y_val))\n",
        "     "
      ],
      "metadata": {
        "colab": {
          "base_uri": "https://localhost:8080/"
        },
        "id": "sOd3CQVOl0Yi",
        "outputId": "bb001ad7-97af-4a96-e003-f1a34090e088"
      },
      "execution_count": null,
      "outputs": [
        {
          "output_type": "stream",
          "name": "stdout",
          "text": [
            "Epoch 1/9\n",
            "16/16 [==============================] - 2s 90ms/step - loss: 0.1117 - accuracy: 0.9595 - val_loss: 0.9848 - val_accuracy: 0.7990\n",
            "Epoch 2/9\n",
            "16/16 [==============================] - 2s 98ms/step - loss: 0.1014 - accuracy: 0.9624 - val_loss: 0.9890 - val_accuracy: 0.7980\n",
            "Epoch 3/9\n",
            "16/16 [==============================] - 2s 103ms/step - loss: 0.0981 - accuracy: 0.9624 - val_loss: 1.0127 - val_accuracy: 0.8060\n",
            "Epoch 4/9\n",
            "16/16 [==============================] - 1s 65ms/step - loss: 0.0950 - accuracy: 0.9635 - val_loss: 1.0149 - val_accuracy: 0.8020\n",
            "Epoch 5/9\n",
            "16/16 [==============================] - 1s 63ms/step - loss: 0.0931 - accuracy: 0.9615 - val_loss: 1.0300 - val_accuracy: 0.8000\n",
            "Epoch 6/9\n",
            "16/16 [==============================] - 1s 63ms/step - loss: 0.0921 - accuracy: 0.9622 - val_loss: 1.0471 - val_accuracy: 0.7960\n",
            "Epoch 7/9\n",
            "16/16 [==============================] - 1s 63ms/step - loss: 0.0900 - accuracy: 0.9613 - val_loss: 1.0502 - val_accuracy: 0.8000\n",
            "Epoch 8/9\n",
            "16/16 [==============================] - 1s 62ms/step - loss: 0.0885 - accuracy: 0.9633 - val_loss: 1.0356 - val_accuracy: 0.8020\n",
            "Epoch 9/9\n",
            "16/16 [==============================] - 1s 64ms/step - loss: 0.0876 - accuracy: 0.9629 - val_loss: 1.0868 - val_accuracy: 0.7960\n"
          ]
        }
      ]
    },
    {
      "cell_type": "code",
      "source": [
        "y_pred = model.predict(x_test)\n",
        "np.argmax(y_pred[0])"
      ],
      "metadata": {
        "colab": {
          "base_uri": "https://localhost:8080/"
        },
        "id": "3i197kDRmAul",
        "outputId": "1cb5df2d-9fff-451f-a38c-2139fe93b9e7"
      },
      "execution_count": null,
      "outputs": [
        {
          "output_type": "stream",
          "name": "stdout",
          "text": [
            "71/71 [==============================] - 0s 3ms/step\n"
          ]
        },
        {
          "output_type": "execute_result",
          "data": {
            "text/plain": [
              "1"
            ]
          },
          "metadata": {},
          "execution_count": 38
        }
      ]
    },
    {
      "cell_type": "code",
      "source": [
        "results = model.evaluate(x_test, y_test)"
      ],
      "metadata": {
        "colab": {
          "base_uri": "https://localhost:8080/"
        },
        "id": "QH_2qA0CtRkj",
        "outputId": "de79bc58-f790-4691-a0a6-1e9a30b53014"
      },
      "execution_count": null,
      "outputs": [
        {
          "output_type": "stream",
          "name": "stdout",
          "text": [
            "71/71 [==============================] - 0s 4ms/step - loss: 1.0195 - accuracy: 0.7983\n"
          ]
        }
      ]
    }
  ]
}